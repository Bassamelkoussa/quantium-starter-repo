{
 "cells": [
  {
   "cell_type": "code",
   "execution_count": 34,
   "metadata": {},
   "outputs": [],
   "source": [
    "import pandas as pd\n",
    "import os"
   ]
  },
  {
   "cell_type": "code",
   "execution_count": 4,
   "metadata": {},
   "outputs": [],
   "source": [
    "df_0 = pd.read_csv(\"data/daily_sales_data_0.csv\")\n",
    "df_1 = pd.read_csv(\"data/daily_sales_data_1.csv\")\n",
    "df_2 = pd.read_csv(\"data/daily_sales_data_2.csv\")"
   ]
  },
  {
   "cell_type": "code",
   "execution_count": 5,
   "metadata": {},
   "outputs": [
    {
     "data": {
      "text/html": [
       "<div>\n",
       "<style scoped>\n",
       "    .dataframe tbody tr th:only-of-type {\n",
       "        vertical-align: middle;\n",
       "    }\n",
       "\n",
       "    .dataframe tbody tr th {\n",
       "        vertical-align: top;\n",
       "    }\n",
       "\n",
       "    .dataframe thead th {\n",
       "        text-align: right;\n",
       "    }\n",
       "</style>\n",
       "<table border=\"1\" class=\"dataframe\">\n",
       "  <thead>\n",
       "    <tr style=\"text-align: right;\">\n",
       "      <th></th>\n",
       "      <th>product</th>\n",
       "      <th>price</th>\n",
       "      <th>quantity</th>\n",
       "      <th>date</th>\n",
       "      <th>region</th>\n",
       "    </tr>\n",
       "  </thead>\n",
       "  <tbody>\n",
       "    <tr>\n",
       "      <th>0</th>\n",
       "      <td>pink morsel</td>\n",
       "      <td>$3.00</td>\n",
       "      <td>546</td>\n",
       "      <td>2018-02-06</td>\n",
       "      <td>north</td>\n",
       "    </tr>\n",
       "    <tr>\n",
       "      <th>1</th>\n",
       "      <td>pink morsel</td>\n",
       "      <td>$3.00</td>\n",
       "      <td>549</td>\n",
       "      <td>2018-02-06</td>\n",
       "      <td>south</td>\n",
       "    </tr>\n",
       "    <tr>\n",
       "      <th>2</th>\n",
       "      <td>pink morsel</td>\n",
       "      <td>$3.00</td>\n",
       "      <td>577</td>\n",
       "      <td>2018-02-06</td>\n",
       "      <td>east</td>\n",
       "    </tr>\n",
       "    <tr>\n",
       "      <th>3</th>\n",
       "      <td>pink morsel</td>\n",
       "      <td>$3.00</td>\n",
       "      <td>519</td>\n",
       "      <td>2018-02-06</td>\n",
       "      <td>west</td>\n",
       "    </tr>\n",
       "    <tr>\n",
       "      <th>4</th>\n",
       "      <td>gold morsel</td>\n",
       "      <td>$9.99</td>\n",
       "      <td>580</td>\n",
       "      <td>2018-02-06</td>\n",
       "      <td>north</td>\n",
       "    </tr>\n",
       "  </tbody>\n",
       "</table>\n",
       "</div>"
      ],
      "text/plain": [
       "       product  price  quantity        date region\n",
       "0  pink morsel  $3.00       546  2018-02-06  north\n",
       "1  pink morsel  $3.00       549  2018-02-06  south\n",
       "2  pink morsel  $3.00       577  2018-02-06   east\n",
       "3  pink morsel  $3.00       519  2018-02-06   west\n",
       "4  gold morsel  $9.99       580  2018-02-06  north"
      ]
     },
     "execution_count": 5,
     "metadata": {},
     "output_type": "execute_result"
    }
   ],
   "source": [
    "df_0.head()"
   ]
  },
  {
   "cell_type": "code",
   "execution_count": 6,
   "metadata": {},
   "outputs": [
    {
     "data": {
      "text/html": [
       "<div>\n",
       "<style scoped>\n",
       "    .dataframe tbody tr th:only-of-type {\n",
       "        vertical-align: middle;\n",
       "    }\n",
       "\n",
       "    .dataframe tbody tr th {\n",
       "        vertical-align: top;\n",
       "    }\n",
       "\n",
       "    .dataframe thead th {\n",
       "        text-align: right;\n",
       "    }\n",
       "</style>\n",
       "<table border=\"1\" class=\"dataframe\">\n",
       "  <thead>\n",
       "    <tr style=\"text-align: right;\">\n",
       "      <th></th>\n",
       "      <th>product</th>\n",
       "      <th>price</th>\n",
       "      <th>quantity</th>\n",
       "      <th>date</th>\n",
       "      <th>region</th>\n",
       "    </tr>\n",
       "  </thead>\n",
       "  <tbody>\n",
       "    <tr>\n",
       "      <th>0</th>\n",
       "      <td>pink morsel</td>\n",
       "      <td>$3.00</td>\n",
       "      <td>545</td>\n",
       "      <td>2019-06-11</td>\n",
       "      <td>north</td>\n",
       "    </tr>\n",
       "    <tr>\n",
       "      <th>1</th>\n",
       "      <td>pink morsel</td>\n",
       "      <td>$3.00</td>\n",
       "      <td>521</td>\n",
       "      <td>2019-06-11</td>\n",
       "      <td>south</td>\n",
       "    </tr>\n",
       "    <tr>\n",
       "      <th>2</th>\n",
       "      <td>pink morsel</td>\n",
       "      <td>$3.00</td>\n",
       "      <td>595</td>\n",
       "      <td>2019-06-11</td>\n",
       "      <td>east</td>\n",
       "    </tr>\n",
       "    <tr>\n",
       "      <th>3</th>\n",
       "      <td>pink morsel</td>\n",
       "      <td>$3.00</td>\n",
       "      <td>507</td>\n",
       "      <td>2019-06-11</td>\n",
       "      <td>west</td>\n",
       "    </tr>\n",
       "    <tr>\n",
       "      <th>4</th>\n",
       "      <td>gold morsel</td>\n",
       "      <td>$9.99</td>\n",
       "      <td>529</td>\n",
       "      <td>2019-06-11</td>\n",
       "      <td>north</td>\n",
       "    </tr>\n",
       "  </tbody>\n",
       "</table>\n",
       "</div>"
      ],
      "text/plain": [
       "       product  price  quantity        date region\n",
       "0  pink morsel  $3.00       545  2019-06-11  north\n",
       "1  pink morsel  $3.00       521  2019-06-11  south\n",
       "2  pink morsel  $3.00       595  2019-06-11   east\n",
       "3  pink morsel  $3.00       507  2019-06-11   west\n",
       "4  gold morsel  $9.99       529  2019-06-11  north"
      ]
     },
     "execution_count": 6,
     "metadata": {},
     "output_type": "execute_result"
    }
   ],
   "source": [
    "df_1.head()"
   ]
  },
  {
   "cell_type": "code",
   "execution_count": 8,
   "metadata": {},
   "outputs": [
    {
     "data": {
      "text/html": [
       "<div>\n",
       "<style scoped>\n",
       "    .dataframe tbody tr th:only-of-type {\n",
       "        vertical-align: middle;\n",
       "    }\n",
       "\n",
       "    .dataframe tbody tr th {\n",
       "        vertical-align: top;\n",
       "    }\n",
       "\n",
       "    .dataframe thead th {\n",
       "        text-align: right;\n",
       "    }\n",
       "</style>\n",
       "<table border=\"1\" class=\"dataframe\">\n",
       "  <thead>\n",
       "    <tr style=\"text-align: right;\">\n",
       "      <th></th>\n",
       "      <th>product</th>\n",
       "      <th>price</th>\n",
       "      <th>quantity</th>\n",
       "      <th>date</th>\n",
       "      <th>region</th>\n",
       "    </tr>\n",
       "  </thead>\n",
       "  <tbody>\n",
       "    <tr>\n",
       "      <th>0</th>\n",
       "      <td>pink morsel</td>\n",
       "      <td>$3.00</td>\n",
       "      <td>526</td>\n",
       "      <td>2020-10-13</td>\n",
       "      <td>north</td>\n",
       "    </tr>\n",
       "    <tr>\n",
       "      <th>1</th>\n",
       "      <td>pink morsel</td>\n",
       "      <td>$3.00</td>\n",
       "      <td>546</td>\n",
       "      <td>2020-10-13</td>\n",
       "      <td>south</td>\n",
       "    </tr>\n",
       "    <tr>\n",
       "      <th>2</th>\n",
       "      <td>pink morsel</td>\n",
       "      <td>$3.00</td>\n",
       "      <td>505</td>\n",
       "      <td>2020-10-13</td>\n",
       "      <td>east</td>\n",
       "    </tr>\n",
       "    <tr>\n",
       "      <th>3</th>\n",
       "      <td>pink morsel</td>\n",
       "      <td>$3.00</td>\n",
       "      <td>561</td>\n",
       "      <td>2020-10-13</td>\n",
       "      <td>west</td>\n",
       "    </tr>\n",
       "    <tr>\n",
       "      <th>4</th>\n",
       "      <td>gold morsel</td>\n",
       "      <td>$9.99</td>\n",
       "      <td>553</td>\n",
       "      <td>2020-10-13</td>\n",
       "      <td>north</td>\n",
       "    </tr>\n",
       "  </tbody>\n",
       "</table>\n",
       "</div>"
      ],
      "text/plain": [
       "       product  price  quantity        date region\n",
       "0  pink morsel  $3.00       526  2020-10-13  north\n",
       "1  pink morsel  $3.00       546  2020-10-13  south\n",
       "2  pink morsel  $3.00       505  2020-10-13   east\n",
       "3  pink morsel  $3.00       561  2020-10-13   west\n",
       "4  gold morsel  $9.99       553  2020-10-13  north"
      ]
     },
     "execution_count": 8,
     "metadata": {},
     "output_type": "execute_result"
    }
   ],
   "source": [
    "df_2.head()"
   ]
  },
  {
   "cell_type": "code",
   "execution_count": 11,
   "metadata": {},
   "outputs": [
    {
     "name": "stdout",
     "output_type": "stream",
     "text": [
      "<class 'pandas.core.frame.DataFrame'>\n",
      "RangeIndex: 13720 entries, 0 to 13719\n",
      "Data columns (total 5 columns):\n",
      " #   Column    Non-Null Count  Dtype \n",
      "---  ------    --------------  ----- \n",
      " 0   product   13720 non-null  object\n",
      " 1   price     13720 non-null  object\n",
      " 2   quantity  13720 non-null  int64 \n",
      " 3   date      13720 non-null  object\n",
      " 4   region    13720 non-null  object\n",
      "dtypes: int64(1), object(4)\n",
      "memory usage: 536.1+ KB\n"
     ]
    }
   ],
   "source": [
    "df_0.info()"
   ]
  },
  {
   "cell_type": "code",
   "execution_count": 12,
   "metadata": {},
   "outputs": [
    {
     "name": "stdout",
     "output_type": "stream",
     "text": [
      "<class 'pandas.core.frame.DataFrame'>\n",
      "RangeIndex: 13720 entries, 0 to 13719\n",
      "Data columns (total 5 columns):\n",
      " #   Column    Non-Null Count  Dtype \n",
      "---  ------    --------------  ----- \n",
      " 0   product   13720 non-null  object\n",
      " 1   price     13720 non-null  object\n",
      " 2   quantity  13720 non-null  int64 \n",
      " 3   date      13720 non-null  object\n",
      " 4   region    13720 non-null  object\n",
      "dtypes: int64(1), object(4)\n",
      "memory usage: 536.1+ KB\n"
     ]
    }
   ],
   "source": [
    "df_1.info()"
   ]
  },
  {
   "cell_type": "code",
   "execution_count": 13,
   "metadata": {},
   "outputs": [
    {
     "name": "stdout",
     "output_type": "stream",
     "text": [
      "<class 'pandas.core.frame.DataFrame'>\n",
      "RangeIndex: 13720 entries, 0 to 13719\n",
      "Data columns (total 5 columns):\n",
      " #   Column    Non-Null Count  Dtype \n",
      "---  ------    --------------  ----- \n",
      " 0   product   13720 non-null  object\n",
      " 1   price     13720 non-null  object\n",
      " 2   quantity  13720 non-null  int64 \n",
      " 3   date      13720 non-null  object\n",
      " 4   region    13720 non-null  object\n",
      "dtypes: int64(1), object(4)\n",
      "memory usage: 536.1+ KB\n"
     ]
    }
   ],
   "source": [
    "df_2.info()"
   ]
  },
  {
   "cell_type": "code",
   "execution_count": 14,
   "metadata": {},
   "outputs": [],
   "source": [
    "# Convert the 'date' column to datetime format\n",
    "df_0['date'] = pd.to_datetime(df_0['date'])\n",
    "df_1['date'] = pd.to_datetime(df_1['date'])\n",
    "df_2['date'] = pd.to_datetime(df_2['date'])"
   ]
  },
  {
   "cell_type": "code",
   "execution_count": 15,
   "metadata": {},
   "outputs": [
    {
     "name": "stdout",
     "output_type": "stream",
     "text": [
      "Date range for df_0: (Timestamp('2018-02-06 00:00:00'), Timestamp('2019-06-10 00:00:00'))\n",
      "Date range for df_1: (Timestamp('2019-06-11 00:00:00'), Timestamp('2020-10-12 00:00:00'))\n",
      "Date range for df_2: (Timestamp('2020-10-13 00:00:00'), Timestamp('2022-02-14 00:00:00'))\n"
     ]
    }
   ],
   "source": [
    "# Get the range of dates for each DataFrame\n",
    "range_df_0 = (df_0['date'].min(), df_0['date'].max())\n",
    "range_df_1 = (df_1['date'].min(), df_1['date'].max())\n",
    "range_df_2 = (df_2['date'].min(), df_2['date'].max())\n",
    "\n",
    "# Print the results\n",
    "print(\"Date range for df_0:\", range_df_0)\n",
    "print(\"Date range for df_1:\", range_df_1)\n",
    "print(\"Date range for df_2:\", range_df_2)"
   ]
  },
  {
   "cell_type": "code",
   "execution_count": 22,
   "metadata": {},
   "outputs": [],
   "source": [
    "# Combine the DataFrames\n",
    "combined_df = pd.concat([df_0, df_1, df_2], ignore_index=True)"
   ]
  },
  {
   "cell_type": "code",
   "execution_count": 23,
   "metadata": {},
   "outputs": [
    {
     "data": {
      "text/html": [
       "<div>\n",
       "<style scoped>\n",
       "    .dataframe tbody tr th:only-of-type {\n",
       "        vertical-align: middle;\n",
       "    }\n",
       "\n",
       "    .dataframe tbody tr th {\n",
       "        vertical-align: top;\n",
       "    }\n",
       "\n",
       "    .dataframe thead th {\n",
       "        text-align: right;\n",
       "    }\n",
       "</style>\n",
       "<table border=\"1\" class=\"dataframe\">\n",
       "  <thead>\n",
       "    <tr style=\"text-align: right;\">\n",
       "      <th></th>\n",
       "      <th>product</th>\n",
       "      <th>price</th>\n",
       "      <th>quantity</th>\n",
       "      <th>date</th>\n",
       "      <th>region</th>\n",
       "    </tr>\n",
       "  </thead>\n",
       "  <tbody>\n",
       "    <tr>\n",
       "      <th>0</th>\n",
       "      <td>pink morsel</td>\n",
       "      <td>$3.00</td>\n",
       "      <td>546</td>\n",
       "      <td>2018-02-06</td>\n",
       "      <td>north</td>\n",
       "    </tr>\n",
       "    <tr>\n",
       "      <th>1</th>\n",
       "      <td>pink morsel</td>\n",
       "      <td>$3.00</td>\n",
       "      <td>549</td>\n",
       "      <td>2018-02-06</td>\n",
       "      <td>south</td>\n",
       "    </tr>\n",
       "    <tr>\n",
       "      <th>2</th>\n",
       "      <td>pink morsel</td>\n",
       "      <td>$3.00</td>\n",
       "      <td>577</td>\n",
       "      <td>2018-02-06</td>\n",
       "      <td>east</td>\n",
       "    </tr>\n",
       "    <tr>\n",
       "      <th>3</th>\n",
       "      <td>pink morsel</td>\n",
       "      <td>$3.00</td>\n",
       "      <td>519</td>\n",
       "      <td>2018-02-06</td>\n",
       "      <td>west</td>\n",
       "    </tr>\n",
       "    <tr>\n",
       "      <th>4</th>\n",
       "      <td>gold morsel</td>\n",
       "      <td>$9.99</td>\n",
       "      <td>580</td>\n",
       "      <td>2018-02-06</td>\n",
       "      <td>north</td>\n",
       "    </tr>\n",
       "  </tbody>\n",
       "</table>\n",
       "</div>"
      ],
      "text/plain": [
       "       product  price  quantity       date region\n",
       "0  pink morsel  $3.00       546 2018-02-06  north\n",
       "1  pink morsel  $3.00       549 2018-02-06  south\n",
       "2  pink morsel  $3.00       577 2018-02-06   east\n",
       "3  pink morsel  $3.00       519 2018-02-06   west\n",
       "4  gold morsel  $9.99       580 2018-02-06  north"
      ]
     },
     "execution_count": 23,
     "metadata": {},
     "output_type": "execute_result"
    }
   ],
   "source": [
    "combined_df.head()"
   ]
  },
  {
   "cell_type": "code",
   "execution_count": 27,
   "metadata": {},
   "outputs": [],
   "source": [
    "# Filter rows where the 'product' column is 'pink morsel'\n",
    "filtered_df = combined_df[combined_df['product'] == 'pink morsel']"
   ]
  },
  {
   "cell_type": "code",
   "execution_count": 28,
   "metadata": {},
   "outputs": [
    {
     "data": {
      "text/html": [
       "<div>\n",
       "<style scoped>\n",
       "    .dataframe tbody tr th:only-of-type {\n",
       "        vertical-align: middle;\n",
       "    }\n",
       "\n",
       "    .dataframe tbody tr th {\n",
       "        vertical-align: top;\n",
       "    }\n",
       "\n",
       "    .dataframe thead th {\n",
       "        text-align: right;\n",
       "    }\n",
       "</style>\n",
       "<table border=\"1\" class=\"dataframe\">\n",
       "  <thead>\n",
       "    <tr style=\"text-align: right;\">\n",
       "      <th></th>\n",
       "      <th>product</th>\n",
       "      <th>price</th>\n",
       "      <th>quantity</th>\n",
       "      <th>date</th>\n",
       "      <th>region</th>\n",
       "    </tr>\n",
       "  </thead>\n",
       "  <tbody>\n",
       "    <tr>\n",
       "      <th>0</th>\n",
       "      <td>pink morsel</td>\n",
       "      <td>$3.00</td>\n",
       "      <td>546</td>\n",
       "      <td>2018-02-06</td>\n",
       "      <td>north</td>\n",
       "    </tr>\n",
       "    <tr>\n",
       "      <th>1</th>\n",
       "      <td>pink morsel</td>\n",
       "      <td>$3.00</td>\n",
       "      <td>549</td>\n",
       "      <td>2018-02-06</td>\n",
       "      <td>south</td>\n",
       "    </tr>\n",
       "    <tr>\n",
       "      <th>2</th>\n",
       "      <td>pink morsel</td>\n",
       "      <td>$3.00</td>\n",
       "      <td>577</td>\n",
       "      <td>2018-02-06</td>\n",
       "      <td>east</td>\n",
       "    </tr>\n",
       "    <tr>\n",
       "      <th>3</th>\n",
       "      <td>pink morsel</td>\n",
       "      <td>$3.00</td>\n",
       "      <td>519</td>\n",
       "      <td>2018-02-06</td>\n",
       "      <td>west</td>\n",
       "    </tr>\n",
       "    <tr>\n",
       "      <th>28</th>\n",
       "      <td>pink morsel</td>\n",
       "      <td>$3.00</td>\n",
       "      <td>529</td>\n",
       "      <td>2018-02-07</td>\n",
       "      <td>north</td>\n",
       "    </tr>\n",
       "  </tbody>\n",
       "</table>\n",
       "</div>"
      ],
      "text/plain": [
       "        product  price  quantity       date region\n",
       "0   pink morsel  $3.00       546 2018-02-06  north\n",
       "1   pink morsel  $3.00       549 2018-02-06  south\n",
       "2   pink morsel  $3.00       577 2018-02-06   east\n",
       "3   pink morsel  $3.00       519 2018-02-06   west\n",
       "28  pink morsel  $3.00       529 2018-02-07  north"
      ]
     },
     "execution_count": 28,
     "metadata": {},
     "output_type": "execute_result"
    }
   ],
   "source": [
    "filtered_df.head()"
   ]
  },
  {
   "cell_type": "code",
   "execution_count": 29,
   "metadata": {},
   "outputs": [
    {
     "name": "stderr",
     "output_type": "stream",
     "text": [
      "<>:2: SyntaxWarning: invalid escape sequence '\\$'\n",
      "<>:2: SyntaxWarning: invalid escape sequence '\\$'\n",
      "/var/folders/dd/60xf0h7548j56j29bvnr7tw40000gn/T/ipykernel_7791/334025596.py:2: SyntaxWarning: invalid escape sequence '\\$'\n",
      "  filtered_df['price'] = filtered_df['price'].str.replace('[\\$,]', '', regex=True).astype(float)\n",
      "/var/folders/dd/60xf0h7548j56j29bvnr7tw40000gn/T/ipykernel_7791/334025596.py:2: SettingWithCopyWarning: \n",
      "A value is trying to be set on a copy of a slice from a DataFrame.\n",
      "Try using .loc[row_indexer,col_indexer] = value instead\n",
      "\n",
      "See the caveats in the documentation: https://pandas.pydata.org/pandas-docs/stable/user_guide/indexing.html#returning-a-view-versus-a-copy\n",
      "  filtered_df['price'] = filtered_df['price'].str.replace('[\\$,]', '', regex=True).astype(float)\n",
      "/var/folders/dd/60xf0h7548j56j29bvnr7tw40000gn/T/ipykernel_7791/334025596.py:5: SettingWithCopyWarning: \n",
      "A value is trying to be set on a copy of a slice from a DataFrame.\n",
      "Try using .loc[row_indexer,col_indexer] = value instead\n",
      "\n",
      "See the caveats in the documentation: https://pandas.pydata.org/pandas-docs/stable/user_guide/indexing.html#returning-a-view-versus-a-copy\n",
      "  filtered_df['sales'] = filtered_df['quantity'] * filtered_df['price']\n"
     ]
    }
   ],
   "source": [
    "# Convert 'price' to numeric by stripping the dollar sign and converting to float\n",
    "filtered_df['price'] = filtered_df['price'].str.replace('[\\$,]', '', regex=True).astype(float)\n",
    "\n",
    "# Create 'sales' column by multiplying 'quantity' by 'price'\n",
    "filtered_df['sales'] = filtered_df['quantity'] * filtered_df['price']\n",
    "\n",
    "# Drop 'quantity' and 'price' columns\n",
    "filtered_df = filtered_df.drop(['quantity', 'price'], axis=1)"
   ]
  },
  {
   "cell_type": "code",
   "execution_count": null,
   "metadata": {},
   "outputs": [],
   "source": []
  },
  {
   "cell_type": "code",
   "execution_count": 31,
   "metadata": {},
   "outputs": [
    {
     "data": {
      "text/html": [
       "<div>\n",
       "<style scoped>\n",
       "    .dataframe tbody tr th:only-of-type {\n",
       "        vertical-align: middle;\n",
       "    }\n",
       "\n",
       "    .dataframe tbody tr th {\n",
       "        vertical-align: top;\n",
       "    }\n",
       "\n",
       "    .dataframe thead th {\n",
       "        text-align: right;\n",
       "    }\n",
       "</style>\n",
       "<table border=\"1\" class=\"dataframe\">\n",
       "  <thead>\n",
       "    <tr style=\"text-align: right;\">\n",
       "      <th></th>\n",
       "      <th>product</th>\n",
       "      <th>date</th>\n",
       "      <th>region</th>\n",
       "      <th>sales</th>\n",
       "    </tr>\n",
       "  </thead>\n",
       "  <tbody>\n",
       "    <tr>\n",
       "      <th>0</th>\n",
       "      <td>pink morsel</td>\n",
       "      <td>2018-02-06</td>\n",
       "      <td>north</td>\n",
       "      <td>1638.0</td>\n",
       "    </tr>\n",
       "    <tr>\n",
       "      <th>1</th>\n",
       "      <td>pink morsel</td>\n",
       "      <td>2018-02-06</td>\n",
       "      <td>south</td>\n",
       "      <td>1647.0</td>\n",
       "    </tr>\n",
       "    <tr>\n",
       "      <th>2</th>\n",
       "      <td>pink morsel</td>\n",
       "      <td>2018-02-06</td>\n",
       "      <td>east</td>\n",
       "      <td>1731.0</td>\n",
       "    </tr>\n",
       "    <tr>\n",
       "      <th>3</th>\n",
       "      <td>pink morsel</td>\n",
       "      <td>2018-02-06</td>\n",
       "      <td>west</td>\n",
       "      <td>1557.0</td>\n",
       "    </tr>\n",
       "    <tr>\n",
       "      <th>28</th>\n",
       "      <td>pink morsel</td>\n",
       "      <td>2018-02-07</td>\n",
       "      <td>north</td>\n",
       "      <td>1587.0</td>\n",
       "    </tr>\n",
       "  </tbody>\n",
       "</table>\n",
       "</div>"
      ],
      "text/plain": [
       "        product       date region   sales\n",
       "0   pink morsel 2018-02-06  north  1638.0\n",
       "1   pink morsel 2018-02-06  south  1647.0\n",
       "2   pink morsel 2018-02-06   east  1731.0\n",
       "3   pink morsel 2018-02-06   west  1557.0\n",
       "28  pink morsel 2018-02-07  north  1587.0"
      ]
     },
     "execution_count": 31,
     "metadata": {},
     "output_type": "execute_result"
    }
   ],
   "source": [
    "filtered_df.head()"
   ]
  },
  {
   "cell_type": "code",
   "execution_count": 39,
   "metadata": {},
   "outputs": [],
   "source": [
    "# Change directory as needed\n",
    "folder_path = '/Users/bassamelkoussa/Downloads/VS Code/quantium-starter-repo/data'"
   ]
  },
  {
   "cell_type": "code",
   "execution_count": 40,
   "metadata": {},
   "outputs": [],
   "source": [
    "# Now export 'filtered_df' to a CSV file in the 'data' directory\n",
    "csv_file_path = os.path.join(folder_path, 'filtered_df.csv')\n",
    "filtered_df.to_csv(csv_file_path, index=False)"
   ]
  },
  {
   "cell_type": "code",
   "execution_count": null,
   "metadata": {},
   "outputs": [],
   "source": []
  }
 ],
 "metadata": {
  "kernelspec": {
   "display_name": "venv",
   "language": "python",
   "name": "python3"
  },
  "language_info": {
   "codemirror_mode": {
    "name": "ipython",
    "version": 3
   },
   "file_extension": ".py",
   "mimetype": "text/x-python",
   "name": "python",
   "nbconvert_exporter": "python",
   "pygments_lexer": "ipython3",
   "version": "3.12.2"
  }
 },
 "nbformat": 4,
 "nbformat_minor": 2
}
